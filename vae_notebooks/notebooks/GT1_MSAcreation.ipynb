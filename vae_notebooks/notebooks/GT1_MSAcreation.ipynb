{
 "cells": [
  {
   "cell_type": "markdown",
   "metadata": {},
   "source": [
    "# FASTA extraction and filtering"
   ]
  },
  {
   "cell_type": "code",
   "execution_count": 1,
   "metadata": {},
   "outputs": [],
   "source": [
    "import os.path\n",
    "import numpy as np\n",
    "import pandas as pd\n",
    "import torch\n",
    "import pickle\n",
    "import subprocess\n",
    "from matplotlib import pyplot as plt\n",
    "from Bio import SeqIO\n",
    "from importlib import reload\n",
    "import warnings\n",
    "\n",
    "from scipy.stats import mode\n",
    "from sklearn.neighbors import KernelDensity\n",
    "from skimage.graph import route_through_array\n",
    "from scipy.spatial import cKDTree\n",
    "from Bio import Entrez, SeqIO\n",
    "from Bio.SeqRecord import SeqRecord\n",
    "from Bio.Seq import Seq\n",
    "import os"
   ]
  },
  {
   "cell_type": "code",
   "execution_count": 2,
   "metadata": {},
   "outputs": [],
   "source": [
    "GT1_proteins = pd.read_csv('/Users/dahala/GitHub/VAE-enzymes/random_data/GT1.txt', sep='\\t', header=None)\n",
    "GT1_proteins.columns = ['type', 'organism', 'ID', 'Accession', 'database']\n",
    "GT1_proteins = GT1_proteins.drop_duplicates(subset='Accession')\n",
    "GT1_prot_ncbi = GT1_proteins[GT1_proteins['database'] == 'ncbi']\n"
   ]
  },
  {
   "cell_type": "code",
   "execution_count": 3,
   "metadata": {},
   "outputs": [
    {
     "name": "stdout",
     "output_type": "stream",
     "text": [
      "BCM90193.1\n",
      "BCM90193.1 O-mycaminosyltylonolide 6-deoxyallosyltransferase [Abditibacteriota bacterium]\n",
      "MRESALLKTLKILFSTFGSLGDIHPYVAIALEAKRRGHTPVIATSERYREKIAAQNIEFRPVAPDLPPEDEFAGLAKQVMNEKDGPRFLFEEILGPSIRTQYADLLAASEDVDLLISHPAAQTGPLVARKTGKKWLSSVLSPISLWSRRDPCVPPTLPHLDWLRVLGPLWGRIQVEAGKAATKKWVVGIEQLREEQNIEFAGHPMFGGQFSPFGTLALFSRHFCAPQPDWPQNTTATGFCFYDAVGLKSNSQPESSDWRAWMQNGSPPVVIGLGSAAVHDGAAIWDAAVRASRRDNVRVVLLTAGTFETAEENVLCVPYAPYSEIFPLARHVYHQGGVGTTAQALRAGVRQVIMPFAHDQSDNAARIQRLGVGRWMRRRELPSLNLKMTRSAWELQRFERAREIGELIRAENGPQAACESIERVGAM\n"
     ]
    }
   ],
   "source": [
    "Entrez.email = \"dahala@dtu.com\"\n",
    "\n",
    "def fetch_protein_sequence(accession):\n",
    "    handle = Entrez.efetch(db=\"protein\", id=accession, rettype=\"fasta\", retmode=\"text\")\n",
    "    record = SeqIO.read(handle, \"fasta\")\n",
    "    handle.close()\n",
    "    return record\n",
    "\n",
    "# Example usage:\n",
    "acc = \"BCM90193.1\"  # Replace with your own accession number\n",
    "protein_record = fetch_protein_sequence(acc)\n",
    "print(protein_record.id)\n",
    "print(protein_record.description)\n",
    "print(protein_record.seq)"
   ]
  },
  {
   "cell_type": "code",
   "execution_count": 34,
   "metadata": {},
   "outputs": [],
   "source": [
    "def download_protein_sequences_to_fasta(accession_list, output_fasta, failed_log=\"failed_accessions.txt\", batch_size=5000):\n",
    "    all_sequences = []\n",
    "    failed_accessions = []\n",
    "\n",
    "    for i in range(0, len(accession_list), batch_size):\n",
    "        batch = accession_list[i:i + batch_size]\n",
    "        print(f\"⏳ Fetching batch {i // batch_size + 1}: {len(batch)} accessions\")\n",
    "\n",
    "        try:\n",
    "            ids = \",\".join(batch)\n",
    "            handle = Entrez.efetch(db=\"protein\", id=ids, rettype=\"fasta\", retmode=\"text\")\n",
    "            records = list(SeqIO.parse(handle, \"fasta\"))\n",
    "            handle.close()\n",
    "        except Exception as e:\n",
    "            print(f\"✗ Failed batch {i // batch_size + 1}: {e}\")\n",
    "            failed_accessions.extend(batch)\n",
    "            continue\n",
    "\n",
    "        fetched_ids = {record.id.split(\"|\")[0] for record in records}\n",
    "        all_sequences.extend(records)\n",
    "\n",
    "        # Find any missing accessions in this batch\n",
    "        missing = [acc for acc in batch if acc not in fetched_ids]\n",
    "        if missing:\n",
    "            print(f\"⚠ {len(missing)} accessions not found in batch {i // batch_size + 1}\")\n",
    "            failed_accessions.extend(missing)\n",
    "\n",
    "    # Write results\n",
    "    if all_sequences:\n",
    "        SeqIO.write(all_sequences, output_fasta, \"fasta\")\n",
    "        print(f\"\\n✔ Saved {len(all_sequences)} sequences to {output_fasta}\")\n",
    "\n",
    "    if failed_accessions:\n",
    "        with open(failed_log, \"w\") as f:\n",
    "            for acc in failed_accessions:\n",
    "                f.write(acc + \"\\n\")\n",
    "        print(f\"⚠ {len(failed_accessions)} accessions failed. Saved to {failed_log}\")"
   ]
  },
  {
   "cell_type": "code",
   "execution_count": null,
   "metadata": {},
   "outputs": [
    {
     "name": "stdout",
     "output_type": "stream",
     "text": [
      "⏳ Fetching batch 1: 9000 accessions\n",
      "⚠ 2 accessions not found in batch 1\n",
      "⏳ Fetching batch 2: 9000 accessions\n",
      "⚠ 2 accessions not found in batch 2\n",
      "⏳ Fetching batch 3: 9000 accessions\n",
      "⚠ 2 accessions not found in batch 3\n",
      "⏳ Fetching batch 4: 9000 accessions\n",
      "⚠ 3 accessions not found in batch 4\n",
      "⏳ Fetching batch 5: 9000 accessions\n",
      "⏳ Fetching batch 6: 9000 accessions\n",
      "⏳ Fetching batch 7: 3400 accessions\n",
      "\n",
      "✔ Saved 57395 sequences to ../../random_data/GT1_filtered.fasta\n",
      "⚠ 9 accessions failed. Saved to ../../random_data/GT1_failed_accessions.txt\n"
     ]
    }
   ],
   "source": [
    "#download_protein_sequences_to_fasta(GT1_prot_ncbi.Accession.tolist(), '../../random_data/GT1_ncbi.fasta', failed_log=\"../../random_data/GT1_failed_accessions.txt\",batch_size=9000)"
   ]
  },
  {
   "cell_type": "code",
   "execution_count": 89,
   "metadata": {},
   "outputs": [],
   "source": [
    "GT1s_fasta_path = '../../random_data/GT1_ncbi.fasta'\n",
    "GT1_fastas_dict = SeqIO.to_dict(SeqIO.parse(GT1s_fasta_path, \"fasta\"))\n"
   ]
  },
  {
   "cell_type": "code",
   "execution_count": 90,
   "metadata": {},
   "outputs": [],
   "source": [
    "GT1_fastas_array = []\n",
    "GT1_fastas_len = []\n",
    "for acc, item in GT1_fastas_dict.items():\n",
    "    seq = str(item.seq)\n",
    "    if len(seq) > 0:\n",
    "        GT1_fastas_array.append(seq)\n",
    "        GT1_fastas_len.append(len(seq))\n",
    "    else:\n",
    "        print(f\"⚠ Empty sequence for {acc}\")\n",
    "GT1_fastas_array = np.array(GT1_fastas_array)\n",
    "GT1_fastas_len = np.array(GT1_fastas_len)"
   ]
  },
  {
   "cell_type": "code",
   "execution_count": 91,
   "metadata": {},
   "outputs": [
    {
     "data": {
      "text/plain": [
       "(array([5.578e+04, 1.155e+03, 3.190e+02, 2.400e+01, 9.000e+00, 1.000e+00,\n",
       "        1.000e+00, 9.500e+01, 8.000e+00, 1.200e+01]),\n",
       " array([  30.,  647., 1264., 1881., 2498., 3115., 3732., 4349., 4966.,\n",
       "        5583., 6200.]),\n",
       " <BarContainer object of 10 artists>)"
      ]
     },
     "execution_count": 91,
     "metadata": {},
     "output_type": "execute_result"
    },
    {
     "data": {
      "image/png": "[encoded data removed]",
      "text/plain": [
       "<Figure size 640x480 with 1 Axes>"
      ]
     },
     "metadata": {},
     "output_type": "display_data"
    }
   ],
   "source": [
    "plt.hist(GT1_fastas_len)"
   ]
  },
  {
   "cell_type": "code",
   "execution_count": 92,
   "metadata": {},
   "outputs": [
    {
     "name": "stdout",
     "output_type": "stream",
     "text": [
      "Longest sequence is UIA10484.1 with length 6200\n",
      "Sequences above 1000: 842\n",
      "Sequences above 2000: 143\n"
     ]
    }
   ],
   "source": [
    "# Finding the longest sequence\n",
    "max_len = 0\n",
    "max_acc = ''\n",
    "for acc, item in GT1_fastas_dict.items():\n",
    "    seq = str(item.seq)\n",
    "    if len(seq) > max_len:\n",
    "        max_len = len(seq)\n",
    "        max_acc = acc\n",
    "print(f\"Longest sequence is {max_acc} with length {max_len}\")\n",
    "\n",
    "# Finding sequences above 1000\n",
    "long_sequences = []\n",
    "for acc, item in GT1_fastas_dict.items():\n",
    "    seq = str(item.seq)\n",
    "    if len(seq) > 1000:\n",
    "        long_sequences.append(acc)\n",
    "print(f\"Sequences above 1000: {len(long_sequences)}\")\n",
    "# Finding sequences above 2000\n",
    "long_sequences = []\n",
    "for acc, item in GT1_fastas_dict.items():\n",
    "    seq = str(item.seq)\n",
    "    if len(seq) > 2000:\n",
    "        long_sequences.append(acc)\n",
    "print(f\"Sequences above 2000: {len(long_sequences)}\")\n"
   ]
  },
  {
   "cell_type": "code",
   "execution_count": 93,
   "metadata": {},
   "outputs": [],
   "source": [
    "GT1_fastas_dict_filtered = {}\n",
    "for acc, item in GT1_fastas_dict.items():\n",
    "    seq = str(item.seq)\n",
    "    if len(seq) < 1000:\n",
    "        GT1_fastas_dict_filtered[acc] = item"
   ]
  },
  {
   "cell_type": "code",
   "execution_count": 94,
   "metadata": {},
   "outputs": [],
   "source": [
    "GT1_fastas_array = []\n",
    "GT1_fastas_len = []\n",
    "for acc, item in GT1_fastas_dict_filtered.items():\n",
    "    seq = str(item.seq)\n",
    "    if len(seq) > 0:\n",
    "        GT1_fastas_array.append(seq)\n",
    "        GT1_fastas_len.append(len(seq))\n",
    "    else:\n",
    "        print(f\"⚠ Empty sequence for {acc}\")\n",
    "GT1_fastas_array = np.array(GT1_fastas_array)\n",
    "GT1_fastas_len = np.array(GT1_fastas_len)"
   ]
  },
  {
   "cell_type": "code",
   "execution_count": 95,
   "metadata": {},
   "outputs": [
    {
     "data": {
      "text/plain": [
       "(array([ 1190.,  5957.,  2674., 20662., 21916.,  3143.,   387.,   233.,\n",
       "          253.,   145.]),\n",
       " array([ 30. , 126.9, 223.8, 320.7, 417.6, 514.5, 611.4, 708.3, 805.2,\n",
       "        902.1, 999. ]),\n",
       " <BarContainer object of 10 artists>)"
      ]
     },
     "execution_count": 95,
     "metadata": {},
     "output_type": "execute_result"
    },
    {
     "data": {
      "image/png": "[encoded data removed]",
      "text/plain": [
       "<Figure size 640x480 with 1 Axes>"
      ]
     },
     "metadata": {},
     "output_type": "display_data"
    }
   ],
   "source": [
    "plt.hist(GT1_fastas_len)"
   ]
  },
  {
   "cell_type": "code",
   "execution_count": 96,
   "metadata": {},
   "outputs": [
    {
     "name": "stdout",
     "output_type": "stream",
     "text": [
      "Sequences below 100: 618\n",
      "Sequences above 100 and below 200: 5717\n",
      "Sequences above 200 and below 300: 2582\n"
     ]
    }
   ],
   "source": [
    "# Finding sequences below 100\n",
    "short_sequences = []\n",
    "for acc, item in GT1_fastas_dict_filtered.items():\n",
    "    seq = str(item.seq)\n",
    "    if len(seq) < 100:\n",
    "        short_sequences.append(acc)\n",
    "print(f\"Sequences below 100: {len(short_sequences)}\")\n",
    "# Finding sequences above 100 and below 200\n",
    "short_sequences = []\n",
    "for acc, item in GT1_fastas_dict_filtered.items():\n",
    "    seq = str(item.seq)\n",
    "    if len(seq) < 200 and len(seq) > 100:\n",
    "        short_sequences.append(acc)\n",
    "print(f\"Sequences above 100 and below 200: {len(short_sequences)}\")\n",
    "# Finding sequences above 200 and below 300\n",
    "short_sequences = []\n",
    "for acc, item in GT1_fastas_dict_filtered.items():\n",
    "    seq = str(item.seq)\n",
    "    if len(seq) < 300 and len(seq) > 200:\n",
    "        short_sequences.append(acc)\n",
    "print(f\"Sequences above 200 and below 300: {len(short_sequences)}\")"
   ]
  },
  {
   "cell_type": "code",
   "execution_count": 104,
   "metadata": {},
   "outputs": [
    {
     "data": {
      "text/plain": [
       "50169"
      ]
     },
     "execution_count": 104,
     "metadata": {},
     "output_type": "execute_result"
    }
   ],
   "source": [
    "GT1_fastas_dict_filtered = {}\n",
    "for acc, item in GT1_fastas_dict.items():\n",
    "    seq = str(item.seq)\n",
    "    if len(seq) > 200 and len(seq) < 1000:\n",
    "        GT1_fastas_dict_filtered[acc] = item\n",
    "GT1s_filtered_fasta_path = '../../random_data/GT1_ncbi_filtered.fasta'\n",
    "SeqIO.write(GT1_fastas_dict_filtered.values(), GT1s_filtered_fasta_path, \"fasta\")"
   ]
  },
  {
   "cell_type": "code",
   "execution_count": 111,
   "metadata": {},
   "outputs": [
    {
     "data": {
      "text/html": [
       "<div>\n",
       "<style scoped>\n",
       "    .dataframe tbody tr th:only-of-type {\n",
       "        vertical-align: middle;\n",
       "    }\n",
       "\n",
       "    .dataframe tbody tr th {\n",
       "        vertical-align: top;\n",
       "    }\n",
       "\n",
       "    .dataframe thead th {\n",
       "        text-align: right;\n",
       "    }\n",
       "</style>\n",
       "<table border=\"1\" class=\"dataframe\">\n",
       "  <thead>\n",
       "    <tr style=\"text-align: right;\">\n",
       "      <th></th>\n",
       "      <th>type</th>\n",
       "      <th>organism</th>\n",
       "      <th>ID</th>\n",
       "      <th>Accession</th>\n",
       "      <th>database</th>\n",
       "    </tr>\n",
       "  </thead>\n",
       "  <tbody>\n",
       "    <tr>\n",
       "      <th>3597</th>\n",
       "      <td>GT1</td>\n",
       "      <td>Eukaryota</td>\n",
       "      <td>Arabidopsis thaliana</td>\n",
       "      <td>AAB61023.1</td>\n",
       "      <td>ncbi</td>\n",
       "    </tr>\n",
       "    <tr>\n",
       "      <th>3598</th>\n",
       "      <td>GT1</td>\n",
       "      <td>Eukaryota</td>\n",
       "      <td>Arabidopsis thaliana</td>\n",
       "      <td>AAK25972.1</td>\n",
       "      <td>ncbi</td>\n",
       "    </tr>\n",
       "    <tr>\n",
       "      <th>3599</th>\n",
       "      <td>GT1</td>\n",
       "      <td>Eukaryota</td>\n",
       "      <td>Arabidopsis thaliana</td>\n",
       "      <td>AAK64133.1</td>\n",
       "      <td>ncbi</td>\n",
       "    </tr>\n",
       "    <tr>\n",
       "      <th>3600</th>\n",
       "      <td>GT1</td>\n",
       "      <td>Eukaryota</td>\n",
       "      <td>Arabidopsis thaliana</td>\n",
       "      <td>AAM61455.1</td>\n",
       "      <td>ncbi</td>\n",
       "    </tr>\n",
       "    <tr>\n",
       "      <th>3601</th>\n",
       "      <td>GT1</td>\n",
       "      <td>Eukaryota</td>\n",
       "      <td>Arabidopsis thaliana</td>\n",
       "      <td>ABJ18919.1</td>\n",
       "      <td>ncbi</td>\n",
       "    </tr>\n",
       "    <tr>\n",
       "      <th>...</th>\n",
       "      <td>...</td>\n",
       "      <td>...</td>\n",
       "      <td>...</td>\n",
       "      <td>...</td>\n",
       "      <td>...</td>\n",
       "    </tr>\n",
       "    <tr>\n",
       "      <th>4400</th>\n",
       "      <td>GT1</td>\n",
       "      <td>Eukaryota</td>\n",
       "      <td>Arabidopsis thaliana</td>\n",
       "      <td>BAF01562.1</td>\n",
       "      <td>ncbi</td>\n",
       "    </tr>\n",
       "    <tr>\n",
       "      <th>4401</th>\n",
       "      <td>GT1</td>\n",
       "      <td>Eukaryota</td>\n",
       "      <td>Arabidopsis thaliana</td>\n",
       "      <td>CAB10446.1</td>\n",
       "      <td>ncbi</td>\n",
       "    </tr>\n",
       "    <tr>\n",
       "      <th>4402</th>\n",
       "      <td>GT1</td>\n",
       "      <td>Eukaryota</td>\n",
       "      <td>Arabidopsis thaliana</td>\n",
       "      <td>CAB78713.1</td>\n",
       "      <td>ncbi</td>\n",
       "    </tr>\n",
       "    <tr>\n",
       "      <th>4403</th>\n",
       "      <td>GT1</td>\n",
       "      <td>Eukaryota</td>\n",
       "      <td>Arabidopsis thaliana</td>\n",
       "      <td>NP_193404.1</td>\n",
       "      <td>ncbi</td>\n",
       "    </tr>\n",
       "    <tr>\n",
       "      <th>4404</th>\n",
       "      <td>GT1</td>\n",
       "      <td>Eukaryota</td>\n",
       "      <td>Arabidopsis thaliana</td>\n",
       "      <td>NP_849397.1</td>\n",
       "      <td>ncbi</td>\n",
       "    </tr>\n",
       "  </tbody>\n",
       "</table>\n",
       "<p>808 rows × 5 columns</p>\n",
       "</div>"
      ],
      "text/plain": [
       "     type   organism                    ID    Accession database\n",
       "3597  GT1  Eukaryota  Arabidopsis thaliana   AAB61023.1     ncbi\n",
       "3598  GT1  Eukaryota  Arabidopsis thaliana   AAK25972.1     ncbi\n",
       "3599  GT1  Eukaryota  Arabidopsis thaliana   AAK64133.1     ncbi\n",
       "3600  GT1  Eukaryota  Arabidopsis thaliana   AAM61455.1     ncbi\n",
       "3601  GT1  Eukaryota  Arabidopsis thaliana   ABJ18919.1     ncbi\n",
       "...   ...        ...                   ...          ...      ...\n",
       "4400  GT1  Eukaryota  Arabidopsis thaliana   BAF01562.1     ncbi\n",
       "4401  GT1  Eukaryota  Arabidopsis thaliana   CAB10446.1     ncbi\n",
       "4402  GT1  Eukaryota  Arabidopsis thaliana   CAB78713.1     ncbi\n",
       "4403  GT1  Eukaryota  Arabidopsis thaliana  NP_193404.1     ncbi\n",
       "4404  GT1  Eukaryota  Arabidopsis thaliana  NP_849397.1     ncbi\n",
       "\n",
       "[808 rows x 5 columns]"
      ]
     },
     "execution_count": 111,
     "metadata": {},
     "output_type": "execute_result"
    }
   ],
   "source": [
    "GT1_prot_ncbi[GT1_prot_ncbi.ID.str.contains('Arabidopsis thaliana')]"
   ]
  },
  {
   "cell_type": "code",
   "execution_count": 116,
   "metadata": {},
   "outputs": [
    {
     "name": "stdout",
     "output_type": "stream",
     "text": [
      "Found query_seq in AEE76548.1\n"
     ]
    }
   ],
   "source": [
    "query_seq = 'MKVELVFIPSPGVGHIRATTALAKLLVASDNRLSVTLIVIPSRVSDDASSSVYTNSEDRLRYILLPARDQTTDLVSYIDSQKPQVRAVVSKVAGDVSTRSDSRLAGIVVDMFCTSMIDIADEFNLSAYIFYTSNASYLGLQFHVQSLYDEKELDVSEFKDTEMKFDVPTLTQPFPAKCLPSVMLNKKWFPYVLGRARSFRATKGILVNSVADMEPQALSFFSGGNGNTNIPPVYAVGPIMDLESSGDEEKRKEILHWLKEQPTKSVVFLCFGSMGGFSEEQAREIAVALERSGHRFLWSLRRASPVGNKSNPPPGEFTNLEEILPKGFLDRTVEIGKIISWAPQVDVLNSPAIGAFVTHCGWNSILESLWFGVPMAAWPIYAEQQFNAFHMVDELGLAAEVKKEYRRDFLVEEPEIVTADEIERGIKCAMEQDSKMRKRVMEMKDKLHVALVDGGSSNCALKKFVQDVVDNVP'\n",
    "for acc, item in GT1_fastas_dict.items():\n",
    "    seq = str(item.seq)\n",
    "    if query_seq in seq:\n",
    "        print(f\"Found query_seq in {acc}\")\n",
    "        break\n",
    "else:\n",
    "    print(f\"{query_seq} not found in any sequence\")"
   ]
  },
  {
   "cell_type": "markdown",
   "metadata": {},
   "source": [
    "# VAE analysis"
   ]
  },
  {
   "cell_type": "code",
   "execution_count": 118,
   "metadata": {},
   "outputs": [
    {
     "name": "stdout",
     "output_type": "stream",
     "text": [
      "/Users/dahala/GitHub/VAE-enzymes/vae_notebooks\n",
      "/Users/dahala/GitHub/VAE-enzymes\n",
      "/Users/dahala/GitHub/VAE-enzymes/vae_notebooks/notebooks\n"
     ]
    }
   ],
   "source": [
    "import os.path\n",
    "import numpy as np\n",
    "import pandas as pd\n",
    "import torch\n",
    "import pickle\n",
    "import subprocess\n",
    "from matplotlib import pyplot as plt\n",
    "from Bio import SeqIO\n",
    "from importlib import reload\n",
    "import warnings\n",
    "\n",
    "from scipy.stats import mode\n",
    "from sklearn.neighbors import KernelDensity\n",
    "from skimage.graph import route_through_array\n",
    "from scipy.spatial import cKDTree\n",
    "\n",
    "import matplotlib.cm as cm\n",
    "\n",
    "import minimal_version.parser_handler\n",
    "%cd /Users/dahala/GitHub/VAE-enzymes/vae_notebooks/\n",
    "from minimal_version.preprocess_msa import Preprocessor, weight_sequences\n",
    "from minimal_version.msa import MSA\n",
    "from minimal_version.utils import Capturing, store_to_pkl, store_to_fasta, load_from_pkl\n",
    "\n",
    "from minimal_version.train import setup_train, Train\n",
    "\n",
    "%cd /Users/dahala/GitHub/VAE-enzymes/\n",
    "from custom_functions import *\n",
    "%cd /Users/dahala/GitHub/VAE-enzymes/vae_notebooks/notebooks/"
   ]
  },
  {
   "cell_type": "code",
   "execution_count": 124,
   "metadata": {},
   "outputs": [
    {
     "name": "stdout",
     "output_type": "stream",
     "text": [
      "Configuration file stored in ../results/Cazy_GT1_trim_200_1000_GASPhmm/config/2025-03-31_16-52.json\n",
      " Working with msaCazy_GT1_trim_200_1000_GASPhmm.json configuration file!\n"
     ]
    }
   ],
   "source": [
    "CONFIGURATION_FILE = \"msaCazy_GT1_trim_200_1000_GASPhmm.json\"\n",
    "run = minimal_version.parser_handler.RunSetup(CONFIGURATION_FILE)\n",
    "print(f\" Working with {CONFIGURATION_FILE} configuration file!\")\n",
    "PFAM_INPUT = False"
   ]
  },
  {
   "cell_type": "code",
   "execution_count": 121,
   "metadata": {},
   "outputs": [],
   "source": [
    "HMMbuild = HMMmodule(run)\n",
    "#HMMbuild.build()\n",
    "HMMbuild.align('GT1_ncbi_filtered_200_1000',fasta_ext='fasta')"
   ]
  },
  {
   "cell_type": "code",
   "execution_count": 125,
   "metadata": {},
   "outputs": [
    {
     "name": "stdout",
     "output_type": "stream",
     "text": [
      "MSA in ../datasets/Cazy_GT1_trim_200_1000_GASPhmm_fix.afa loaded\n",
      "number of sequences: 50169\n",
      "Trimmed MSA has 26881 sequences and the width is 439\n",
      "Trimmed MSA is stored at ../results/Cazy_GT1_trim_200_1000_GASPhmm/msa/trimmed_msa.fasta\n",
      "Training MSA has 26881 sequences and the width is 439\n",
      "Training MSA is stored at ../results/Cazy_GT1_trim_200_1000_GASPhmm/msa/training_msa.fasta\n"
     ]
    }
   ],
   "source": [
    "\"\"\"\n",
    "Preprocess MSA and prepare it for VAE model training\n",
    "\"\"\"\n",
    "\n",
    "# logging\n",
    "msa_log = open(os.path.join(run.logs, 'msa_log.txt'), \"w\")\n",
    "\n",
    "# MSA loading\n",
    "if PFAM_INPUT:\n",
    "    msa = MSA.load_pfam(run.dataset)\n",
    "else:\n",
    "    msa = MSA.load_msa(run.dataset)\n",
    "MSA.amino_acid_dict(run.pickles)\n",
    "msg = f\"MSA in {run.dataset} loaded\\n\" \\\n",
    "      f\"number of sequences: {len(list(msa.keys()))}\"\n",
    "print(msg)\n",
    "msa_log.write(msg + f'\\n{\"=\"*80}\\n')\n",
    "\n",
    "# MSA preprocessing\n",
    "preprocessor = Preprocessor(run)\n",
    "with Capturing() as output:\n",
    "    msa, msa_keys = preprocessor.trim_msa(msa)\n",
    "msa_log.write(\" MSA Preprocessing \\n\" + \"\\n\".join(output) + f'\\n{\"=\"*80}\\n')\n",
    "assert (msa.shape[0] == len(msa_keys))\n",
    "trim_file_path = os.path.join(run.msa, \"trimmed_msa.fasta\")\n",
    "msg = f\"Trimmed MSA has {msa.shape[0]} sequences and the width is {msa.shape[1]}\\n\" \\\n",
    "      f\"Trimmed MSA is stored at {trim_file_path}\"\n",
    "print(msg)\n",
    "msa_log.write(msg + f'\\n{\"=\"*80}\\n')\n",
    "msa_num_dict_shuffled = {k: seq for k, seq in zip(msa_keys, msa)}  # transform to dictionary, have keys together\n",
    "# but secure that query and fixed sequences are at the beginning \n",
    "msa_num_dict = {k: msa_num_dict_shuffled[k] for k in preprocessor.keep_keys}\n",
    "msa_num_dict.update({k: msa_num_dict_shuffled[k] for k in msa_num_dict_shuffled if k not in preprocessor.keep_keys})\n",
    "\n",
    "trimmed_msa = MSA.number_to_amino(msa_num_dict)\n",
    "store_to_fasta(trimmed_msa, trim_file_path)\n",
    "store_to_pkl({run.query: trimmed_msa[run.query]}, os.path.join(run.pickles, \"reference_seq.pkl\"))\n",
    "\n",
    "# Filtering or weighting\n",
    "with Capturing() as output:\n",
    "    if run.clustering:  # MSA filtering\n",
    "        print(f\"MSA {run.identity}% identity filtering step\")\n",
    "        msa_num_dict = preprocessor.identity_filtering(msa_num_dict)\n",
    "        msa, training_alg = preprocessor.get_keys_file_and_np_sequences(msa_num_dict)  # Overlap one treemmer\n",
    "        seq_weight = np.ones(msa.shape[0])  # we just provide uniform weights for all sequences\n",
    "    else:  # otherwise the weighting mechanism will be applied\n",
    "        msa, training_alg = preprocessor.get_keys_file_and_np_sequences(msa_num_dict)  # Overlap one treemmer\n",
    "        seq_weight = weight_sequences(msa)\n",
    "msa_log.write(\"\\n\".join(output))\n",
    "train_msa_file_path = os.path.join(run.msa, \"training_msa.fasta\")\n",
    "training_alg = MSA.number_to_amino(training_alg)\n",
    "store_to_fasta(training_alg, train_msa_file_path)\n",
    "msg = f\"Training MSA has {msa.shape[0]} sequences and the width is {msa.shape[1]}\\n\" \\\n",
    "      f\"Training MSA is stored at {train_msa_file_path}\"\n",
    "print(msg)\n",
    "msa_log.write(msg + f'\\n{\"=\" * 80}\\n')\n",
    "\n",
    "store_to_pkl(seq_weight, os.path.join(run.pickles, \"seq_weight.pkl\"))\n",
    "store_to_pkl(training_alg, os.path.join(run.pickles, \"training_alignment.pkl\"))\n",
    "\n",
    "# MSA one-hot encoding\n",
    "binary = MSA.number_to_binary(msa)\n",
    "store_to_pkl(binary, os.path.join(run.pickles, \"seq_msa_binary.pkl\"))\n",
    "msa_log.close()"
   ]
  },
  {
   "cell_type": "code",
   "execution_count": 126,
   "metadata": {},
   "outputs": [],
   "source": [
    "with open(run.pickles+ \"/msa_columns.pkl\", \"rb\") as input_file:\n",
    "   msa_columns = pickle.load(input_file)"
   ]
  },
  {
   "cell_type": "code",
   "execution_count": null,
   "metadata": {},
   "outputs": [],
   "source": [
    "load_from_pkl(os.path.join(run.model, \"model_params.pkl\"))['model']"
   ]
  },
  {
   "cell_type": "code",
   "execution_count": null,
   "metadata": {},
   "outputs": [],
   "source": [
    "%cd /Users/dahala/GitHub/VAE-enzymes/vae_notebooks\n",
    "from matplotlib import pyplot as plt\n",
    "from notebooks.minimal_version.latent_space import LatentSpace\n",
    "%cd /Users/dahala/GitHub/VAE-enzymes/vae_notebooks/notebooks/\n",
    "\n",
    "# Projection to the latent space\n",
    "# Show your queries\n",
    "run.weights = f'{run.result}/model/vae_fold_0.model'\n",
    "latent_space = LatentSpace(run)\n",
    "msa_embeddings = latent_space.msa_embeddings[\"mus\"]\n",
    "\n",
    "\n",
    "query_coords = latent_space.key_to_embedding(run.fixed_sequences)\n",
    "\n",
    "\n",
    "fig_lat, ax = plt.subplots(1, 1,figsize=(10,10))\n",
    "\n",
    "ax.plot(msa_embeddings[:, 0], msa_embeddings[:, 1], '.', alpha=0.1, markersize=10, color='grey',zorder=0)\n",
    "ax.scatter(query_coords[:, 0], query_coords[:, 1], marker='o', s=100, color='red', label='Query',zorder=1)\n",
    "\n",
    "# Project \n",
    "ax.legend(loc='lower left', fontsize=20)\n",
    "ax.tick_params(labelsize=18)\n",
    "ax.set_xlabel(r'$Z_1$', fontsize=25)\n",
    "ax.set_ylabel(r'$Z_2$', fontsize=25)\n",
    "ax.set_box_aspect(1)\n",
    "\n",
    "plt.tight_layout()\n",
    "fig_lat.savefig(os.path.join(run.results, f\"latent_space.png\"))\n",
    "    #ax.set_title(f\"Latent space projection final\")"
   ]
  }
 ],
 "metadata": {
  "kernelspec": {
   "display_name": "vae_env",
   "language": "python",
   "name": "python3"
  },
  "language_info": {
   "codemirror_mode": {
    "name": "ipython",
    "version": 3
   },
   "file_extension": ".py",
   "mimetype": "text/x-python",
   "name": "python",
   "nbconvert_exporter": "python",
   "pygments_lexer": "ipython3",
   "version": "3.8.19"
  }
 },
 "nbformat": 4,
 "nbformat_minor": 2
}
