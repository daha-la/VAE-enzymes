{
 "cells": [
  {
   "cell_type": "code",
   "execution_count": 29,
   "metadata": {},
   "outputs": [],
   "source": [
    "import os.path\n",
    "import numpy as np\n",
    "import pandas as pd\n",
    "import torch\n",
    "import pickle\n",
    "import subprocess\n",
    "from matplotlib import pyplot as plt\n",
    "from Bio import SeqIO\n",
    "from importlib import reload\n",
    "import warnings\n",
    "\n",
    "from scipy.stats import mode\n",
    "from sklearn.neighbors import KernelDensity\n",
    "from skimage.graph import route_through_array\n",
    "from scipy.spatial import cKDTree\n",
    "from Bio import Entrez, SeqIO\n",
    "from Bio.SeqRecord import SeqRecord\n",
    "from Bio.Seq import Seq\n",
    "import os"
   ]
  },
  {
   "cell_type": "code",
   "execution_count": 11,
   "metadata": {},
   "outputs": [],
   "source": [
    "GT1_proteins = pd.read_csv('/Users/dahala/GitHub/VAE-enzymes/random_data/GT1.txt', sep='\\t', header=None)\n",
    "GT1_proteins.columns = ['type', 'organism', 'ID', 'Accession', 'database']\n",
    "GT1_proteins = GT1_proteins.drop_duplicates(subset='Accession')\n",
    "GT1_prot_ncbi = GT1_proteins[GT1_proteins['database'] == 'ncbi']\n"
   ]
  },
  {
   "cell_type": "code",
   "execution_count": 15,
   "metadata": {},
   "outputs": [
    {
     "name": "stdout",
     "output_type": "stream",
     "text": [
      "BCM90193.1\n",
      "BCM90193.1 O-mycaminosyltylonolide 6-deoxyallosyltransferase [Abditibacteriota bacterium]\n",
      "MRESALLKTLKILFSTFGSLGDIHPYVAIALEAKRRGHTPVIATSERYREKIAAQNIEFRPVAPDLPPEDEFAGLAKQVMNEKDGPRFLFEEILGPSIRTQYADLLAASEDVDLLISHPAAQTGPLVARKTGKKWLSSVLSPISLWSRRDPCVPPTLPHLDWLRVLGPLWGRIQVEAGKAATKKWVVGIEQLREEQNIEFAGHPMFGGQFSPFGTLALFSRHFCAPQPDWPQNTTATGFCFYDAVGLKSNSQPESSDWRAWMQNGSPPVVIGLGSAAVHDGAAIWDAAVRASRRDNVRVVLLTAGTFETAEENVLCVPYAPYSEIFPLARHVYHQGGVGTTAQALRAGVRQVIMPFAHDQSDNAARIQRLGVGRWMRRRELPSLNLKMTRSAWELQRFERAREIGELIRAENGPQAACESIERVGAM\n"
     ]
    }
   ],
   "source": [
    "Entrez.email = \"dahala@dtu.com\"\n",
    "\n",
    "def fetch_protein_sequence(accession):\n",
    "    handle = Entrez.efetch(db=\"protein\", id=accession, rettype=\"fasta\", retmode=\"text\")\n",
    "    record = SeqIO.read(handle, \"fasta\")\n",
    "    handle.close()\n",
    "    return record\n",
    "\n",
    "# Example usage:\n",
    "acc = \"BCM90193.1\"  # Replace with your own accession number\n",
    "protein_record = fetch_protein_sequence(acc)\n",
    "print(protein_record.id)\n",
    "print(protein_record.description)\n",
    "print(protein_record.seq)"
   ]
  },
  {
   "cell_type": "code",
   "execution_count": 24,
   "metadata": {},
   "outputs": [],
   "source": [
    "def fetch_multiple(accessions):\n",
    "    ids = \",\".join(accessions)\n",
    "    handle = Entrez.efetch(db=\"protein\", id=ids, rettype=\"fasta\", retmode=\"text\")\n",
    "    records = list(SeqIO.parse(handle, \"fasta\"))\n",
    "    handle.close()\n",
    "    return records\n",
    "\n",
    "records = fetch_multiple(GT1_prot_ncbi.Accession.tolist())"
   ]
  },
  {
   "cell_type": "code",
   "execution_count": 34,
   "metadata": {},
   "outputs": [],
   "source": [
    "def download_protein_sequences_to_fasta(accession_list, output_fasta, failed_log=\"failed_accessions.txt\", batch_size=5000):\n",
    "    all_sequences = []\n",
    "    failed_accessions = []\n",
    "\n",
    "    for i in range(0, len(accession_list), batch_size):\n",
    "        batch = accession_list[i:i + batch_size]\n",
    "        print(f\"⏳ Fetching batch {i // batch_size + 1}: {len(batch)} accessions\")\n",
    "\n",
    "        try:\n",
    "            ids = \",\".join(batch)\n",
    "            handle = Entrez.efetch(db=\"protein\", id=ids, rettype=\"fasta\", retmode=\"text\")\n",
    "            records = list(SeqIO.parse(handle, \"fasta\"))\n",
    "            handle.close()\n",
    "        except Exception as e:\n",
    "            print(f\"✗ Failed batch {i // batch_size + 1}: {e}\")\n",
    "            failed_accessions.extend(batch)\n",
    "            continue\n",
    "\n",
    "        fetched_ids = {record.id.split(\"|\")[0] for record in records}\n",
    "        all_sequences.extend(records)\n",
    "\n",
    "        # Find any missing accessions in this batch\n",
    "        missing = [acc for acc in batch if acc not in fetched_ids]\n",
    "        if missing:\n",
    "            print(f\"⚠ {len(missing)} accessions not found in batch {i // batch_size + 1}\")\n",
    "            failed_accessions.extend(missing)\n",
    "\n",
    "    # Write results\n",
    "    if all_sequences:\n",
    "        SeqIO.write(all_sequences, output_fasta, \"fasta\")\n",
    "        print(f\"\\n✔ Saved {len(all_sequences)} sequences to {output_fasta}\")\n",
    "\n",
    "    if failed_accessions:\n",
    "        with open(failed_log, \"w\") as f:\n",
    "            for acc in failed_accessions:\n",
    "                f.write(acc + \"\\n\")\n",
    "        print(f\"⚠ {len(failed_accessions)} accessions failed. Saved to {failed_log}\")"
   ]
  },
  {
   "cell_type": "code",
   "execution_count": 36,
   "metadata": {},
   "outputs": [
    {
     "name": "stdout",
     "output_type": "stream",
     "text": [
      "⏳ Fetching batch 1: 9000 accessions\n",
      "⚠ 2 accessions not found in batch 1\n",
      "⏳ Fetching batch 2: 9000 accessions\n",
      "⚠ 2 accessions not found in batch 2\n",
      "⏳ Fetching batch 3: 9000 accessions\n",
      "⚠ 2 accessions not found in batch 3\n",
      "⏳ Fetching batch 4: 9000 accessions\n",
      "⚠ 3 accessions not found in batch 4\n",
      "⏳ Fetching batch 5: 9000 accessions\n",
      "⏳ Fetching batch 6: 9000 accessions\n",
      "⏳ Fetching batch 7: 3400 accessions\n",
      "\n",
      "✔ Saved 57395 sequences to ../../random_data/GT1_filtered.fasta\n",
      "⚠ 9 accessions failed. Saved to ../../random_data/GT1_failed_accessions.txt\n"
     ]
    }
   ],
   "source": [
    "download_protein_sequences_to_fasta(GT1_prot_ncbi.Accession.tolist(), '../../random_data/GT1_filtered.fasta', failed_log=\"../../random_data/GT1_failed_accessions.txt\",batch_size=9000)"
   ]
  },
  {
   "cell_type": "code",
   "execution_count": null,
   "metadata": {},
   "outputs": [],
   "source": []
  }
 ],
 "metadata": {
  "kernelspec": {
   "display_name": "vae_env",
   "language": "python",
   "name": "python3"
  },
  "language_info": {
   "codemirror_mode": {
    "name": "ipython",
    "version": 3
   },
   "file_extension": ".py",
   "mimetype": "text/x-python",
   "name": "python",
   "nbconvert_exporter": "python",
   "pygments_lexer": "ipython3",
   "version": "3.8.19"
  }
 },
 "nbformat": 4,
 "nbformat_minor": 2
}
